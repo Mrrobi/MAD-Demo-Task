{
  "nbformat": 4,
  "nbformat_minor": 0,
  "metadata": {
    "colab": {
      "name": "KNN Classifier.ipynb",
      "provenance": [],
      "mount_file_id": "1Ou85FdA5cGQ6iKBsLRrbQfS-dFP714gT",
      "authorship_tag": "ABX9TyPLOrfaGhoOvqbcPZ6fenqf",
      "include_colab_link": true
    },
    "kernelspec": {
      "name": "python3",
      "display_name": "Python 3"
    }
  },
  "cells": [
    {
      "cell_type": "markdown",
      "metadata": {
        "id": "view-in-github",
        "colab_type": "text"
      },
      "source": [
        "<a href=\"https://colab.research.google.com/github/Mrrobi/MAD-Demo-Task/blob/master/AILAB/KNN_Classifier.ipynb\" target=\"_parent\"><img src=\"https://colab.research.google.com/assets/colab-badge.svg\" alt=\"Open In Colab\"/></a>"
      ]
    },
    {
      "cell_type": "code",
      "metadata": {
        "id": "Je0zlM5wOVM1",
        "colab_type": "code",
        "colab": {
          "base_uri": "https://localhost:8080/",
          "height": 34
        },
        "outputId": "9960213a-9cc1-48ab-f408-18becdce68c4"
      },
      "source": [
        "from google.colab import drive\n",
        "drive.mount('/content/gdrive')"
      ],
      "execution_count": null,
      "outputs": [
        {
          "output_type": "stream",
          "text": [
            "Drive already mounted at /content/gdrive; to attempt to forcibly remount, call drive.mount(\"/content/gdrive\", force_remount=True).\n"
          ],
          "name": "stdout"
        }
      ]
    },
    {
      "cell_type": "code",
      "metadata": {
        "id": "3B2259MfdDKY",
        "colab_type": "code",
        "colab": {}
      },
      "source": [
        "from numpy import genfromtxt\n",
        "import random\n",
        "from random import random\n",
        "from scipy.spatial import distance\n",
        "import operator\n",
        "def load_dataset(path):\n",
        "  return genfromtxt(path, delimiter=',')\n"
      ],
      "execution_count": null,
      "outputs": []
    },
    {
      "cell_type": "code",
      "metadata": {
        "id": "USLdFHiCPPbm",
        "colab_type": "code",
        "colab": {}
      },
      "source": [
        "data = '/content/gdrive/My Drive/ALLAB/KNN/Clasification/mobileprice.csv'\n",
        "dataset = load_dataset(data)"
      ],
      "execution_count": null,
      "outputs": []
    },
    {
      "cell_type": "code",
      "metadata": {
        "id": "u-MgG4NYc0va",
        "colab_type": "code",
        "colab": {}
      },
      "source": [
        "DataList = dataset.tolist()\n",
        "#random.shuffle(DataList)\n",
        "#print(DataList)"
      ],
      "execution_count": null,
      "outputs": []
    },
    {
      "cell_type": "code",
      "metadata": {
        "id": "KI1Ccd4RQDuN",
        "colab_type": "code",
        "colab": {
          "base_uri": "https://localhost:8080/",
          "height": 70
        },
        "outputId": "25473053-1c37-44a3-fc2e-e8e2010fec53"
      },
      "source": [
        "Train_set=[]\n",
        "Val_set=[]\n",
        "Test_set=[]\n",
        "for x in DataList:\n",
        "  R = random()\n",
        "  if R >= 0 and R <= 0.7:\n",
        "    Train_set.append(x)\n",
        "  elif R >= 0.7 and R <= 0.85:\n",
        "    Val_set.append(x)\n",
        "  else:\n",
        "    Test_set.append(x)\n",
        "print(len(Train_set))\n",
        "print(len(Val_set))\n",
        "print(len(Test_set))"
      ],
      "execution_count": null,
      "outputs": [
        {
          "output_type": "stream",
          "text": [
            "1347\n",
            "310\n",
            "343\n"
          ],
          "name": "stdout"
        }
      ]
    },
    {
      "cell_type": "code",
      "metadata": {
        "id": "WP_1nyxeSv-X",
        "colab_type": "code",
        "colab": {}
      },
      "source": [
        "def validation(k):\n",
        "  correct = 0\n",
        "  for s in Val_set:\n",
        "    ValueDict = {}\n",
        "    for v in Train_set:\n",
        "      ed = distance.euclidean(s[:(len(s)-1)], v[0:(len(v)-1)])\n",
        "      ValueDict[ed] = v\n",
        "    sorted_L = sorted(ValueDict.keys())\n",
        "    count = 1\n",
        "    ClassDict = {}\n",
        "    for x in sorted_L:\n",
        "      if int(ValueDict[x][-1]) in ClassDict.keys(): \n",
        "        ClassDict[int(ValueDict[x][-1])] = ClassDict[int(ValueDict[x][-1])]+1\n",
        "      else:\n",
        "        ClassDict[int(ValueDict[x][-1])] = 0\n",
        "        ClassDict[int(ValueDict[x][-1])] = ClassDict[int(ValueDict[x][-1])]+1\n",
        "      count = count + 1\n",
        "      if(count > k):\n",
        "        break\n",
        "    val = max(ClassDict.items(), key=operator.itemgetter(1))[0]\n",
        "    if(int(s[-1]) == val):\n",
        "      correct = correct + 1.0\n",
        "  accuracy = (float(correct)/float(len(Val_set)))*100.0\n",
        "  return accuracy"
      ],
      "execution_count": null,
      "outputs": []
    },
    {
      "cell_type": "code",
      "metadata": {
        "id": "rs53G18d_U2h",
        "colab_type": "code",
        "colab": {
          "base_uri": "https://localhost:8080/",
          "height": 354
        },
        "outputId": "f8efc5f6-1406-48fd-c3f2-7dd7f952614f"
      },
      "source": [
        "for x in range(5,100,5):\n",
        "  print(f\"{x} -> {validation(x)}\")\n",
        "  "
      ],
      "execution_count": null,
      "outputs": [
        {
          "output_type": "stream",
          "text": [
            "5 -> 91.29032258064517\n",
            "10 -> 93.87096774193549\n",
            "15 -> 93.87096774193549\n",
            "20 -> 94.51612903225806\n",
            "25 -> 92.58064516129032\n",
            "30 -> 93.87096774193549\n",
            "35 -> 93.54838709677419\n",
            "40 -> 93.54838709677419\n",
            "45 -> 92.90322580645162\n",
            "50 -> 93.2258064516129\n",
            "55 -> 92.58064516129032\n",
            "60 -> 93.2258064516129\n",
            "65 -> 93.54838709677419\n",
            "70 -> 93.54838709677419\n",
            "75 -> 92.25806451612904\n",
            "80 -> 92.90322580645162\n",
            "85 -> 91.93548387096774\n",
            "90 -> 90.96774193548387\n",
            "95 -> 90.0\n"
          ],
          "name": "stdout"
        }
      ]
    },
    {
      "cell_type": "code",
      "metadata": {
        "id": "qNHnvKBy0TGs",
        "colab_type": "code",
        "colab": {
          "base_uri": "https://localhost:8080/",
          "height": 238
        },
        "outputId": "dac7b871-611c-40bf-bf42-8a8806f60c90"
      },
      "source": [
        "correct = 0\n",
        "for s in Test_set:\n",
        "  ValueDict = {}\n",
        "  for v in Train_set:\n",
        "    ed = distance.euclidean(s[:(len(s)-1)], v[0:(len(v)-1)])\n",
        "    ValueDict[ed] = v\n",
        "  sorted_L = sorted(ValueDict.keys())\n",
        "  count = 1\n",
        "  ClassDict = {}\n",
        "  for x in sorted_L:\n",
        "    if int(ValueDict[x][-1]) in ClassDict.keys(): \n",
        "      ClassDict[int(ValueDict[x][-1])] = ClassDict[int(ValueDict[x][-1])]+1\n",
        "    else:\n",
        "      ClassDict[int(ValueDict[x][-1])] = 0\n",
        "      ClassDict[int(ValueDict[x][-1])] = ClassDict[int(ValueDict[x][-1])]+1\n",
        "    count = count + 1\n",
        "    if(count > k):\n",
        "      break\n",
        "  val = max(ClassDict.items(), key=operator.itemgetter(1))[0]\n",
        "  if(int(s[-1]) == val):\n",
        "    correct = correct + 1\n",
        "accuracy = (correct/len(Val_set))*100\n",
        "print(accuracy)"
      ],
      "execution_count": null,
      "outputs": [
        {
          "output_type": "error",
          "ename": "NameError",
          "evalue": "ignored",
          "traceback": [
            "\u001b[0;31m---------------------------------------------------------------------------\u001b[0m",
            "\u001b[0;31mNameError\u001b[0m                                 Traceback (most recent call last)",
            "\u001b[0;32m<ipython-input-17-69eeeaf6596f>\u001b[0m in \u001b[0;36m<module>\u001b[0;34m()\u001b[0m\n\u001b[1;32m     15\u001b[0m       \u001b[0mClassDict\u001b[0m\u001b[0;34m[\u001b[0m\u001b[0mint\u001b[0m\u001b[0;34m(\u001b[0m\u001b[0mValueDict\u001b[0m\u001b[0;34m[\u001b[0m\u001b[0mx\u001b[0m\u001b[0;34m]\u001b[0m\u001b[0;34m[\u001b[0m\u001b[0;34m-\u001b[0m\u001b[0;36m1\u001b[0m\u001b[0;34m]\u001b[0m\u001b[0;34m)\u001b[0m\u001b[0;34m]\u001b[0m \u001b[0;34m=\u001b[0m \u001b[0mClassDict\u001b[0m\u001b[0;34m[\u001b[0m\u001b[0mint\u001b[0m\u001b[0;34m(\u001b[0m\u001b[0mValueDict\u001b[0m\u001b[0;34m[\u001b[0m\u001b[0mx\u001b[0m\u001b[0;34m]\u001b[0m\u001b[0;34m[\u001b[0m\u001b[0;34m-\u001b[0m\u001b[0;36m1\u001b[0m\u001b[0;34m]\u001b[0m\u001b[0;34m)\u001b[0m\u001b[0;34m]\u001b[0m\u001b[0;34m+\u001b[0m\u001b[0;36m1\u001b[0m\u001b[0;34m\u001b[0m\u001b[0;34m\u001b[0m\u001b[0m\n\u001b[1;32m     16\u001b[0m     \u001b[0mcount\u001b[0m \u001b[0;34m=\u001b[0m \u001b[0mcount\u001b[0m \u001b[0;34m+\u001b[0m \u001b[0;36m1\u001b[0m\u001b[0;34m\u001b[0m\u001b[0;34m\u001b[0m\u001b[0m\n\u001b[0;32m---> 17\u001b[0;31m     \u001b[0;32mif\u001b[0m\u001b[0;34m(\u001b[0m\u001b[0mcount\u001b[0m \u001b[0;34m>\u001b[0m \u001b[0mk\u001b[0m\u001b[0;34m)\u001b[0m\u001b[0;34m:\u001b[0m\u001b[0;34m\u001b[0m\u001b[0;34m\u001b[0m\u001b[0m\n\u001b[0m\u001b[1;32m     18\u001b[0m       \u001b[0;32mbreak\u001b[0m\u001b[0;34m\u001b[0m\u001b[0;34m\u001b[0m\u001b[0m\n\u001b[1;32m     19\u001b[0m   \u001b[0mval\u001b[0m \u001b[0;34m=\u001b[0m \u001b[0mmax\u001b[0m\u001b[0;34m(\u001b[0m\u001b[0mClassDict\u001b[0m\u001b[0;34m.\u001b[0m\u001b[0mitems\u001b[0m\u001b[0;34m(\u001b[0m\u001b[0;34m)\u001b[0m\u001b[0;34m,\u001b[0m \u001b[0mkey\u001b[0m\u001b[0;34m=\u001b[0m\u001b[0moperator\u001b[0m\u001b[0;34m.\u001b[0m\u001b[0mitemgetter\u001b[0m\u001b[0;34m(\u001b[0m\u001b[0;36m1\u001b[0m\u001b[0;34m)\u001b[0m\u001b[0;34m)\u001b[0m\u001b[0;34m[\u001b[0m\u001b[0;36m0\u001b[0m\u001b[0;34m]\u001b[0m\u001b[0;34m\u001b[0m\u001b[0;34m\u001b[0m\u001b[0m\n",
            "\u001b[0;31mNameError\u001b[0m: name 'k' is not defined"
          ]
        }
      ]
    }
  ]
}